{
 "cells": [
  {
   "cell_type": "markdown",
   "metadata": {},
   "source": [
    "В цій практичній роботі ми спробуємо реалізувати нейронну мережу з двох шарів (прихований і вихідний). Запропонований підхід стане заготовкою для реалізації наступних оптимізацій: MBGD, ADAM та регуляризації. \n",
    "\n",
    "Сьогодні ж вам пропонується додати до цього класу підтримку довільної кількості шарів та нейронів в них (наприклад, передавати їх параметром в конструктор, як це робиться в MLPClassifier за допомогою hidden_layer_sizes). Також потрібно передбачити можливість ранньої зупинки ітераційного процесу, якщо значення штрафної функції не покращуватиметься протягом певної кількості ітерацій. Наприклад, якщо протягом $k$ ітерацій штрафна функція за модулем не стане меншою, ніж на поточному кроці."
   ]
  },
  {
   "cell_type": "code",
   "execution_count": 1,
   "metadata": {},
   "outputs": [],
   "source": [
    "import numpy as np\n",
    "import pandas as pd\n",
    "from sklearn.model_selection import train_test_split\n",
    "from mpl_toolkits.mplot3d import Axes3D\n",
    "import matplotlib.pyplot as plt\n",
    "\n",
    "from matplotlib.colors import ListedColormap\n",
    "cm_bright = ListedColormap(['#FF0000', '#0000FF'])\n",
    "%matplotlib inline\n",
    "from sklearn.metrics import accuracy_score\n",
    "\n",
    "import sklearn.linear_model"
   ]
  },
  {
   "cell_type": "code",
   "execution_count": 2,
   "metadata": {},
   "outputs": [],
   "source": [
    "def plot_surface(cls, x_1, x_2, ax=None, threshold=0.5, contourf=False):\n",
    "    xx1, xx2 = np.meshgrid(np.linspace(x_1.min(), x_1.max(), 100), \n",
    "                           np.linspace(x_2.min(), x_2.max(), 100))\n",
    "\n",
    "    X_pred = np.c_[xx1.ravel(), xx2.ravel()]\n",
    "    pred = cls.predict_proba(X_pred)[:, 0]\n",
    "    Z = pred.reshape((100, 100))\n",
    "    if ax is None:\n",
    "        ax = plt.gca()\n",
    "    ax.contour(xx1, xx2, Z, levels=[threshold], colors='black')\n",
    "    ax.set_xlim((x_1.min(), x_1.max()))\n",
    "    ax.set_ylim((x_2.min(), x_2.max()))"
   ]
  },
  {
   "cell_type": "code",
   "execution_count": 3,
   "metadata": {},
   "outputs": [],
   "source": [
    "def plot_data(X, y):\n",
    "    ax = plt.gca()\n",
    "    ax.scatter(X[:,0], X[:,1], c=(y == 1), cmap=cm_bright)"
   ]
  },
  {
   "cell_type": "code",
   "execution_count": 1,
   "metadata": {
    "collapsed": true
   },
   "outputs": [],
   "source": [
    "class NeuralNet:\n",
    "    \"\"\"\n",
    "    NN for binary classification\n",
    "    Attributes:\n",
    "    ...\n",
    "    \"\"\"\n",
    "    \n",
    "    def __init__(self, normalize = True, learning_rate = 0.01, num_iter = 30000, hidden_layer_sizes=(10,), eps=1e-6):\n",
    "        self.learning_rate = learning_rate\n",
    "        self.num_iter = num_iter\n",
    "        self.normalize = normalize\n",
    "        self.hidden_layer_sizes = hidden_layer_sizes\n",
    "        self.n_layers = 1 + len(hidden_layer_sizes)\n",
    "        self.eps = eps\n",
    "        self.parameters = None  # W and b\n",
    "    \n",
    "    def __normalize(self, X, mean = None, std = None):\n",
    "        \"\"\"\n",
    "        Зверніть увагу, що нормалізація вхідних даних є дуже важливою для швидкодії нейронних мереж.\n",
    "        \"\"\"\n",
    "        n = X.shape[0]\n",
    "        m = mean\n",
    "        if m is None:\n",
    "            m = np.mean(X, axis=1).reshape((n, 1))\n",
    "        s = std\n",
    "        if s is None:\n",
    "            s = np.std(X, axis=1).reshape((n, 1))\n",
    "        X_new = (X - m) / s**2\n",
    "        return X_new, m, s\n",
    "\n",
    "    def __sigmoid(self, Z):\n",
    "        \"\"\"\n",
    "        В наступних практичних потрібно буде додати підтримку й інших активаційних функцій - це один з гіперпараметрів. \n",
    "        Їх можна вибирати для всіх шарів одночасно або мати різні активаційні функції на кожному з них.\n",
    "        \"\"\"\n",
    "        return 1 / (1 + np.exp(-Z))\n",
    "    \n",
    "    def __initialize_parameters(self, n_x, hidden_layers, n_y):\n",
    "        np.random.seed(1)\n",
    "        \n",
    "        t = 0\n",
    "        t = \"asdfds\"\n",
    "        \n",
    "        W_arr = list()\n",
    "        b_arr = list()\n",
    "        self.dW = list()\n",
    "        self.db = list()\n",
    "        \n",
    "        layers = list(hidden_layers)\n",
    "        layers.insert(0, n_x)\n",
    "        layers.append(n_y)\n",
    "        layers = tuple(layers)\n",
    "        \n",
    "        for i in range(1, self.n_layers+1):\n",
    "            W = np.random.randn(layers[i], layers[i-1]) * 0.01\n",
    "            b = np.zeros((layers[i], 1))\n",
    "            dW = np.zeros((layers[i], layers[i-1]))\n",
    "            db = np.zeros((layers[i], 1))\n",
    "            \n",
    "            W_arr.append(W)\n",
    "            b_arr.append(b)\n",
    "            self.dW.append(dW)\n",
    "            self.db.append(db)\n",
    "        \n",
    "        self.parameters = {\"W\": W_arr, \"b\": b_arr}\n",
    "  \n",
    "\n",
    "    def __forward_propagation(self, X):\n",
    "        W = self.parameters[\"W\"]\n",
    "        b = self.parameters[\"b\"]\n",
    "        \n",
    "        Z = list()\n",
    "        A = list()\n",
    "        \n",
    "        Z.append(np.dot(W[0], X) + b[0])\n",
    "        A.append(self.__sigmoid(Z[0]))\n",
    "\n",
    "        for i in range(1, self.n_layers):\n",
    "            Z.append(np.dot(W[i], A[i-1]) + b[i])\n",
    "            A.append(self.__sigmoid(Z[i]))\n",
    "            \n",
    "        cache = (W, b, Z, A)\n",
    "        return A[-1], cache\n",
    " \n",
    "\n",
    "    def compute_cost(self, A, Y):\n",
    "        m = Y.shape[1]\n",
    "        res = Y * np.log(A) + (1 - Y) * np.log(1 - A)\n",
    "        J = -(1 / m) * np.sum(res)\n",
    "        return J\n",
    "\n",
    "    \n",
    "    def __backward_propagation(self, X, Y, cache):\n",
    "        m = X.shape[1]\n",
    "        n = X.shape[0]\n",
    "        (W, b, Z, A) = cache\n",
    "        \n",
    "        dZ = [None for i in range(self.n_layers)]\n",
    "        dW = [None for i in range(self.n_layers)]\n",
    "        db = [None for i in range(self.n_layers)]\n",
    "        dA = [None for i in range(self.n_layers)]\n",
    "        \n",
    "        dZ[-1] = (A[-1] - Y)\n",
    "        dW[-1] = (1. / m * np.dot(dZ[-1], A[-2].T))\n",
    "        db[-1] = (1. / m * np.sum(dZ[-1], axis = 1, keepdims = True))\n",
    "        dA[-1] = np.dot(W[-1].T, dZ[-1])\n",
    "        \n",
    "        for i in range(self.n_layers-1, 1, -1):\n",
    "            dZ[i-1] = np.multiply(dA[i], np.multiply(A[i-1], 1 - A[i-1]))\n",
    "            dW[i-1] = 1. / m * np.dot(dZ[i-1], A[i-2].T)\n",
    "            db[i-1] = 1. / m * np.sum(dZ[i-1], axis = 1, keepdims = True)\n",
    "            dA[i-1] = np.dot(W[i-1].T, dZ[i-1])\n",
    "            \n",
    "\n",
    "        dZ[0] = np.multiply(dA[1], np.multiply(A[0], 1 - A[0]))\n",
    "        dA[0] = np.dot(W[0].T, dZ[0])\n",
    "        \n",
    "        dW[0] = 1. / m * np.dot(dZ[0], X.T)\n",
    "        db[0] = 1. / m * np.sum(dZ[0], axis = 1, keepdims = True)\n",
    "        \n",
    "\n",
    "        grads = {\"dZ\": dZ, \"dW\": dW, \"db\": db}\n",
    "        return grads\n",
    "    \n",
    "        \n",
    "    def __update_parameters(self, grads):\n",
    "        W = self.parameters[\"W\"]\n",
    "        b = self.parameters[\"b\"]\n",
    "        \n",
    "        dW = grads[\"dW\"]\n",
    "        db = grads[\"db\"]\n",
    "        \n",
    "        for i in range(self.n_layers):\n",
    "            W[i] = W[i] - self.learning_rate * dW[i]\n",
    "            b[i] = b[i] - self.learning_rate * db[i]\n",
    "        \n",
    "        self.parameters = {\"W\": W, \"b\": b}\n",
    "\n",
    "        \n",
    "    def fit(self, X_vert, Y_vert, n_iters_stop = 5, print_cost = True):\n",
    "        \n",
    "        X, Y = X_vert.T, Y_vert.T\n",
    "        \n",
    "        if self.normalize:\n",
    "            X, self.__mean, self.__std = self.__normalize(X)\n",
    "                \n",
    "        costs = []\n",
    "        costs_history = []\n",
    "        \n",
    "        m = X.shape[1]\n",
    "        n_x = X.shape[0]\n",
    "        n_y = Y.shape[0]\n",
    "        \n",
    "        self.__initialize_parameters(n_x, self.hidden_layer_sizes, n_y)\n",
    "        iters_to_break = 0;\n",
    "\n",
    "        for i in range(self.num_iter):\n",
    "            self.iterations = i\n",
    "            A, cache = self.__forward_propagation(X)\n",
    "\n",
    "            cost = self.compute_cost(A, Y)\n",
    "            costs_history.append(cost)\n",
    "            \n",
    "            grads = self.__backward_propagation(X, Y, cache)\n",
    "\n",
    "            self.__update_parameters(grads)\n",
    "\n",
    "            if print_cost and i % 1000 == 0:\n",
    "                print(\"{}-th iteration: {}\".format(i, cost))\n",
    "\n",
    "            if i % 1000 == 0:\n",
    "                costs.append(cost)\n",
    "\n",
    "            \n",
    "            if i >= 1 and (costs_history[-1] - costs_history[-2]) >= 0:\n",
    "                iters_to_break = iters_to_break + 1\n",
    "                if iters_to_break == n_iters_stop:\n",
    "                    break\n",
    "            else:\n",
    "                iters_to_break = 0;\n",
    "                \n",
    "        if print_cost:\n",
    "            plt.plot(costs)\n",
    "            plt.ylabel(\"Cost\")\n",
    "            plt.xlabel(\"Iteration, *1000\")\n",
    "            plt.show()\n",
    "\n",
    "            \n",
    "    def predict_proba(self, X_vert):\n",
    "        X = X_vert.T\n",
    "        if self.normalize:\n",
    "            X, _, _ = self.__normalize(X, self.__mean, self.__std)\n",
    "        \n",
    "        probs = self.__forward_propagation(X)[0]\n",
    "        \n",
    "        return np.column_stack((probs.T, 1 - probs.T))\n",
    "    \n",
    "    def predict(self, X_vert):\n",
    "        positive_probs = self.predict_proba(X_vert)[:, 0]\n",
    "        return (positive_probs >= 0.5).astype(int)   \n"
   ]
  },
  {
   "cell_type": "markdown",
   "metadata": {},
   "source": [
    "Спочатку спробуйте цей клас на одній задачі, а потім на іншій."
   ]
  },
  {
   "cell_type": "code",
   "execution_count": 5,
   "metadata": {},
   "outputs": [
    {
     "name": "stdout",
     "output_type": "stream",
     "text": [
      "Training set: X=(118, 2), y=(118,)\n"
     ]
    }
   ],
   "source": [
    "data_columns = [\"test1\", \"test2\"]\n",
    "target_column = \"passed\"\n",
    "df = pd.read_csv(\"tests.csv\")\n",
    "X, Y = df[data_columns].values, df[target_column]\n",
    "print('Training set: X={}, y={}'.format(X.shape, Y.shape))"
   ]
  },
  {
   "cell_type": "code",
   "execution_count": 6,
   "metadata": {},
   "outputs": [
    {
     "data": {
      "image/png": "[encoded data removed]",
      "text/plain": [
       "<Figure size 432x288 with 1 Axes>"
      ]
     },
     "metadata": {
      "needs_background": "light"
     },
     "output_type": "display_data"
    }
   ],
   "source": [
    "plot_data(X, Y)"
   ]
  },
  {
   "cell_type": "code",
   "execution_count": 7,
   "metadata": {},
   "outputs": [],
   "source": [
    "cls = NeuralNet(normalize = True, learning_rate = 0.5, num_iter = 4000, hidden_layer_sizes=(20,), eps=1e-6)"
   ]
  },
  {
   "cell_type": "code",
   "execution_count": 8,
   "metadata": {},
   "outputs": [
    {
     "name": "stdout",
     "output_type": "stream",
     "text": [
      "0-th iteration: 0.6933754913074256\n",
      "1000-th iteration: 0.6898887572536652\n",
      "2000-th iteration: 0.6035741004857594\n",
      "3000-th iteration: 0.4082928240168437\n"
     ]
    },
    {
     "data": {
      "image/png": "[encoded data removed]",
      "text/plain": [
       "<Figure size 432x288 with 1 Axes>"
      ]
     },
     "metadata": {
      "needs_background": "light"
     },
     "output_type": "display_data"
    }
   ],
   "source": [
    "cls.fit(X, Y.values.reshape((df.shape[0], 1)), n_iters_stop=5)"
   ]
  },
  {
   "cell_type": "code",
   "execution_count": 9,
   "metadata": {},
   "outputs": [
    {
     "name": "stdout",
     "output_type": "stream",
     "text": [
      "{'W': [array([[ 8.85350221e-01, -7.67354736e-01],\n",
      "       [-2.85542768e-01,  1.68040835e+00],\n",
      "       [ 2.69187558e-01, -3.33499854e+00],\n",
      "       [ 4.30430464e-02, -8.54384623e-02],\n",
      "       [ 2.69618552e-03, -1.26549519e-01],\n",
      "       [ 2.02829105e+00,  1.75775673e+00],\n",
      "       [ 3.17507370e-01,  1.18337119e-01],\n",
      "       [ 9.66992561e-01, -5.18489815e-02],\n",
      "       [ 1.11473301e-01, -4.34282335e-02],\n",
      "       [ 1.24256919e+00, -5.51762001e-01],\n",
      "       [-2.55188268e-02,  1.73072148e+00],\n",
      "       [-2.57324029e-01, -6.09394050e-01],\n",
      "       [ 9.93064986e-01,  1.53891429e-01],\n",
      "       [-1.07929276e+00, -1.77387660e-02],\n",
      "       [ 2.99281744e-01,  9.86828457e-02],\n",
      "       [ 1.33900244e+00,  2.83118077e-01],\n",
      "       [ 1.52714196e-01,  4.07466352e-02],\n",
      "       [ 1.75853909e-01,  9.15608495e-02],\n",
      "       [ 1.03159900e+00,  5.37051030e-01],\n",
      "       [ 3.72815779e-02, -9.99929142e-02]]), array([[ 2.17273272, -4.15886638, -4.48843501, -0.86266388, -0.98367149,\n",
      "        -8.86518308, -0.34859616,  0.86846916, -0.75128858,  3.71731991,\n",
      "         5.78167207, -1.19257695, -2.35133689, -2.27568795, -0.41586633,\n",
      "         1.88918025, -0.63286753, -0.55987787,  1.38481146, -0.88420984]])], 'b': [array([[ 1.88151684],\n",
      "       [-2.75957628],\n",
      "       [-1.07900458],\n",
      "       [ 0.14235137],\n",
      "       [ 0.13749166],\n",
      "       [-3.95321049],\n",
      "       [ 0.09077852],\n",
      "       [ 1.04124358],\n",
      "       [ 0.07518831],\n",
      "       [ 3.22501254],\n",
      "       [ 4.03155701],\n",
      "       [-0.39190394],\n",
      "       [-1.86756621],\n",
      "       [-1.53097078],\n",
      "       [ 0.04144343],\n",
      "       [ 1.8600286 ],\n",
      "       [ 0.07354298],\n",
      "       [ 0.07162824],\n",
      "       [ 1.63133565],\n",
      "       [ 0.13255624]]), array([[-1.93250579]])]}\n"
     ]
    }
   ],
   "source": [
    "print(cls.parameters)"
   ]
  },
  {
   "cell_type": "code",
   "execution_count": 10,
   "metadata": {},
   "outputs": [
    {
     "data": {
      "text/plain": [
       "array([[5.72836213e-01, 4.27163787e-01],\n",
       "       [7.88658961e-01, 2.11341039e-01],\n",
       "       [3.58044541e-01, 6.41955459e-01],\n",
       "       [1.53321405e-01, 8.46678595e-01],\n",
       "       [1.02157470e-01, 8.97842530e-01],\n",
       "       [8.46976341e-01, 1.53023659e-01],\n",
       "       [5.07451004e-02, 9.49254900e-01],\n",
       "       [2.63875337e-01, 7.36124663e-01],\n",
       "       [7.26038491e-01, 2.73961509e-01],\n",
       "       [9.34668228e-01, 6.53317720e-02],\n",
       "       [9.63887519e-01, 3.61124806e-02],\n",
       "       [3.17810729e-01, 6.82189271e-01],\n",
       "       [2.53242927e-01, 7.46757073e-01],\n",
       "       [1.26567307e-01, 8.73432693e-01],\n",
       "       [7.76781035e-01, 2.23218965e-01],\n",
       "       [2.18585177e-01, 7.81414823e-01],\n",
       "       [6.06118305e-01, 3.93881695e-01],\n",
       "       [8.34845501e-01, 1.65154499e-01],\n",
       "       [7.17586965e-01, 2.82413035e-01],\n",
       "       [2.17261296e-01, 7.82738704e-01],\n",
       "       [9.94531769e-01, 5.46823051e-03],\n",
       "       [8.56075541e-01, 1.43924459e-01],\n",
       "       [8.69144234e-01, 1.30855766e-01],\n",
       "       [6.14926622e-02, 9.38507338e-01],\n",
       "       [2.58152806e-01, 7.41847194e-01],\n",
       "       [8.57804663e-01, 1.42195337e-01],\n",
       "       [1.82815132e-01, 8.17184868e-01],\n",
       "       [3.80548270e-01, 6.19451730e-01],\n",
       "       [4.20189819e-01, 5.79810181e-01],\n",
       "       [8.23424117e-01, 1.76575883e-01],\n",
       "       [9.85161132e-01, 1.48388682e-02],\n",
       "       [5.27705040e-01, 4.72294960e-01],\n",
       "       [3.66546107e-01, 6.33453893e-01],\n",
       "       [9.50406245e-01, 4.95937553e-02],\n",
       "       [3.91614118e-02, 9.60838588e-01],\n",
       "       [6.50044789e-01, 3.49955211e-01],\n",
       "       [3.63014222e-01, 6.36985778e-01],\n",
       "       [4.88590967e-02, 9.51140903e-01],\n",
       "       [9.99033710e-01, 9.66290029e-04],\n",
       "       [1.12928893e-01, 8.87071107e-01],\n",
       "       [4.93475371e-02, 9.50652463e-01],\n",
       "       [5.67240534e-01, 4.32759466e-01],\n",
       "       [4.98208011e-02, 9.50179199e-01],\n",
       "       [2.52938761e-01, 7.47061239e-01],\n",
       "       [2.86165443e-01, 7.13834557e-01],\n",
       "       [9.30136319e-01, 6.98636811e-02],\n",
       "       [6.66071819e-02, 9.33392818e-01],\n",
       "       [1.44764578e-01, 8.55235422e-01],\n",
       "       [1.83328143e-01, 8.16671857e-01],\n",
       "       [2.27076404e-01, 7.72923596e-01],\n",
       "       [7.56646613e-01, 2.43353387e-01],\n",
       "       [2.28885697e-01, 7.71114303e-01],\n",
       "       [9.79178584e-01, 2.08214163e-02],\n",
       "       [1.51014454e-02, 9.84898555e-01],\n",
       "       [3.46679574e-01, 6.53320426e-01],\n",
       "       [1.82674080e-01, 8.17325920e-01],\n",
       "       [2.43205103e-02, 9.75679490e-01],\n",
       "       [5.37491655e-01, 4.62508345e-01],\n",
       "       [4.97719577e-01, 5.02280423e-01],\n",
       "       [8.00245997e-01, 1.99754003e-01],\n",
       "       [5.75860716e-01, 4.24139284e-01],\n",
       "       [9.89597170e-01, 1.04028305e-02],\n",
       "       [2.00678917e-02, 9.79932108e-01],\n",
       "       [3.55850638e-01, 6.44149362e-01],\n",
       "       [9.22155888e-01, 7.78441121e-02],\n",
       "       [9.30570697e-01, 6.94293030e-02],\n",
       "       [2.09389658e-02, 9.79061034e-01],\n",
       "       [2.62830713e-01, 7.37169287e-01],\n",
       "       [4.32524855e-01, 5.67475145e-01],\n",
       "       [2.41343552e-01, 7.58656448e-01],\n",
       "       [9.74073571e-01, 2.59264290e-02],\n",
       "       [4.05898092e-01, 5.94101908e-01],\n",
       "       [9.51210722e-01, 4.87892782e-02],\n",
       "       [7.97820266e-01, 2.02179734e-01],\n",
       "       [5.62413760e-01, 4.37586240e-01],\n",
       "       [9.96343200e-01, 3.65680000e-03],\n",
       "       [5.12891469e-01, 4.87108531e-01],\n",
       "       [7.83122361e-01, 2.16877639e-01],\n",
       "       [4.34910570e-01, 5.65089430e-01],\n",
       "       [7.17894447e-01, 2.82105553e-01],\n",
       "       [1.05424214e-01, 8.94575786e-01],\n",
       "       [9.93107450e-01, 6.89255013e-03],\n",
       "       [9.95198842e-01, 4.80115793e-03],\n",
       "       [4.08264679e-01, 5.91735321e-01],\n",
       "       [5.56880818e-01, 4.43119182e-01],\n",
       "       [4.46705152e-01, 5.53294848e-01],\n",
       "       [2.28629212e-01, 7.71370788e-01],\n",
       "       [1.60134432e-01, 8.39865568e-01],\n",
       "       [5.46174844e-01, 4.53825156e-01],\n",
       "       [1.42656297e-02, 9.85734370e-01],\n",
       "       [2.47718910e-01, 7.52281090e-01],\n",
       "       [9.43964399e-01, 5.60356011e-02],\n",
       "       [9.61207652e-01, 3.87923478e-02],\n",
       "       [1.50051399e-02, 9.84994860e-01],\n",
       "       [2.63226320e-01, 7.36773680e-01],\n",
       "       [1.43451854e-01, 8.56548146e-01],\n",
       "       [9.54650382e-01, 4.53496177e-02],\n",
       "       [1.26779853e-01, 8.73220147e-01],\n",
       "       [2.39130231e-01, 7.60869769e-01],\n",
       "       [6.18718110e-01, 3.81281890e-01],\n",
       "       [9.71810658e-01, 2.81893416e-02],\n",
       "       [9.73795625e-01, 2.62043754e-02],\n",
       "       [7.20691326e-01, 2.79308674e-01],\n",
       "       [7.58198700e-02, 9.24180130e-01],\n",
       "       [1.97667840e-02, 9.80233216e-01],\n",
       "       [9.44556538e-01, 5.54434620e-02],\n",
       "       [8.37660061e-02, 9.16233994e-01],\n",
       "       [5.53536698e-01, 4.46463302e-01],\n",
       "       [6.57078066e-01, 3.42921934e-01],\n",
       "       [9.82420916e-01, 1.75790837e-02],\n",
       "       [2.44679810e-01, 7.55320190e-01],\n",
       "       [7.28345443e-01, 2.71654557e-01],\n",
       "       [4.06879490e-02, 9.59312051e-01],\n",
       "       [9.82757156e-01, 1.72428439e-02],\n",
       "       [3.90514014e-01, 6.09485986e-01],\n",
       "       [8.13999945e-01, 1.86000055e-01],\n",
       "       [2.45475066e-01, 7.54524934e-01],\n",
       "       [1.45440147e-01, 8.54559853e-01]])"
      ]
     },
     "execution_count": 10,
     "metadata": {},
     "output_type": "execute_result"
    }
   ],
   "source": [
    "Y_prob = cls.predict_proba(X)\n",
    "Y_prob"
   ]
  },
  {
   "cell_type": "code",
   "execution_count": 11,
   "metadata": {},
   "outputs": [
    {
     "data": {
      "text/plain": [
       "array([1, 1, 0, 0, 0, 1, 0, 0, 1, 1, 1, 0, 0, 0, 1, 0, 1, 1, 1, 0, 1, 1,\n",
       "       1, 0, 0, 1, 0, 0, 0, 1, 1, 1, 0, 1, 0, 1, 0, 0, 1, 0, 0, 1, 0, 0,\n",
       "       0, 1, 0, 0, 0, 0, 1, 0, 1, 0, 0, 0, 0, 1, 0, 1, 1, 1, 0, 0, 1, 1,\n",
       "       0, 0, 0, 0, 1, 0, 1, 1, 1, 1, 1, 1, 0, 1, 0, 1, 1, 0, 1, 0, 0, 0,\n",
       "       1, 0, 0, 1, 1, 0, 0, 0, 1, 0, 0, 1, 1, 1, 1, 0, 0, 1, 0, 1, 1, 1,\n",
       "       0, 1, 0, 1, 0, 1, 0, 0])"
      ]
     },
     "execution_count": 11,
     "metadata": {},
     "output_type": "execute_result"
    }
   ],
   "source": [
    "Y_hat = cls.predict(X)\n",
    "Y_hat"
   ]
  },
  {
   "cell_type": "code",
   "execution_count": 12,
   "metadata": {},
   "outputs": [
    {
     "data": {
      "text/plain": [
       "0.864406779661017"
      ]
     },
     "execution_count": 12,
     "metadata": {},
     "output_type": "execute_result"
    }
   ],
   "source": [
    "accuracy_score(Y, Y_hat)"
   ]
  },
  {
   "cell_type": "code",
   "execution_count": 13,
   "metadata": {},
   "outputs": [
    {
     "data": {
      "image/png": "[encoded data removed]",
      "text/plain": [
       "<Figure size 432x288 with 1 Axes>"
      ]
     },
     "metadata": {
      "needs_background": "light"
     },
     "output_type": "display_data"
    }
   ],
   "source": [
    "plot_data(X, Y)\n",
    "plot_surface(cls, X[:, 0], X[:, 1])"
   ]
  },
  {
   "cell_type": "markdown",
   "metadata": {},
   "source": [
    "Зверніть увагу на границю прийняття рішення. Модель старається побудувати складну криву, що може свідчити про її перетренування. Порівняйте отримані результати з класом з sklearn. Спробуйте додати нові шари для нашого класу та порівняти результати тоді. Поекспериментуйте з гіперпараметрами для обох класів."
   ]
  },
  {
   "cell_type": "code",
   "execution_count": 14,
   "metadata": {},
   "outputs": [],
   "source": [
    "from sklearn.neural_network import MLPClassifier\n",
    "clf = MLPClassifier(hidden_layer_sizes = (20,), max_iter = 10000, activation = 'relu', solver = 'sgd', learning_rate_init = 0.01, learning_rate = 'constant')"
   ]
  },
  {
   "cell_type": "code",
   "execution_count": 15,
   "metadata": {},
   "outputs": [
    {
     "data": {
      "text/plain": [
       "MLPClassifier(activation='relu', alpha=0.0001, batch_size='auto', beta_1=0.9,\n",
       "              beta_2=0.999, early_stopping=False, epsilon=1e-08,\n",
       "              hidden_layer_sizes=(20,), learning_rate='constant',\n",
       "              learning_rate_init=0.01, max_fun=15000, max_iter=10000,\n",
       "              momentum=0.9, n_iter_no_change=10, nesterovs_momentum=True,\n",
       "              power_t=0.5, random_state=None, shuffle=True, solver='sgd',\n",
       "              tol=0.0001, validation_fraction=0.1, verbose=False,\n",
       "              warm_start=False)"
      ]
     },
     "execution_count": 15,
     "metadata": {},
     "output_type": "execute_result"
    }
   ],
   "source": [
    "clf.fit(X, Y)"
   ]
  },
  {
   "cell_type": "code",
   "execution_count": 16,
   "metadata": {},
   "outputs": [
    {
     "data": {
      "image/png": "[encoded data removed]",
      "text/plain": [
       "<Figure size 432x288 with 1 Axes>"
      ]
     },
     "metadata": {
      "needs_background": "light"
     },
     "output_type": "display_data"
    }
   ],
   "source": [
    "plot_data(X, Y)\n",
    "plot_surface(clf, X[:, 0], X[:, 1])"
   ]
  },
  {
   "cell_type": "code",
   "execution_count": 17,
   "metadata": {},
   "outputs": [
    {
     "data": {
      "text/plain": [
       "0.8389830508474576"
      ]
     },
     "execution_count": 17,
     "metadata": {},
     "output_type": "execute_result"
    }
   ],
   "source": [
    "accuracy_score(Y, clf.predict(X))"
   ]
  },
  {
   "cell_type": "markdown",
   "metadata": {},
   "source": [
    "# Інший датасет"
   ]
  },
  {
   "cell_type": "code",
   "execution_count": 18,
   "metadata": {},
   "outputs": [
    {
     "name": "stdout",
     "output_type": "stream",
     "text": [
      "Training set: X=(100, 2), y=(100,)\n"
     ]
    }
   ],
   "source": [
    "data_columns = [\"exam1\", \"exam2\"]\n",
    "target_column = \"submitted\"\n",
    "df = pd.read_csv(\"sats.csv\")\n",
    "X, Y = df[data_columns].values, df[target_column]#.reshape((df.shape[0], 1))\n",
    "print('Training set: X={}, y={}'.format(X.shape, Y.shape))"
   ]
  },
  {
   "cell_type": "code",
   "execution_count": 19,
   "metadata": {},
   "outputs": [
    {
     "data": {
      "image/png": "[encoded data removed]",
      "text/plain": [
       "<Figure size 432x288 with 1 Axes>"
      ]
     },
     "metadata": {
      "needs_background": "light"
     },
     "output_type": "display_data"
    }
   ],
   "source": [
    "plot_data(X, Y)"
   ]
  },
  {
   "cell_type": "code",
   "execution_count": 20,
   "metadata": {},
   "outputs": [],
   "source": [
    "cls = NeuralNet(normalize = True, learning_rate = 0.6, num_iter = 4000, hidden_layer_sizes=(100,), eps=1e-6)"
   ]
  },
  {
   "cell_type": "code",
   "execution_count": 21,
   "metadata": {},
   "outputs": [
    {
     "name": "stdout",
     "output_type": "stream",
     "text": [
      "0-th iteration: 0.6926602601273588\n",
      "1000-th iteration: 0.669399217552098\n",
      "2000-th iteration: 0.444973478993952\n",
      "3000-th iteration: 0.22987140085697375\n"
     ]
    },
    {
     "data": {
      "image/png": "[encoded data removed]",
      "text/plain": [
       "<Figure size 432x288 with 1 Axes>"
      ]
     },
     "metadata": {
      "needs_background": "light"
     },
     "output_type": "display_data"
    }
   ],
   "source": [
    "cls.fit(X, Y.values.reshape((df.shape[0], 1)), n_iters_stop=5)"
   ]
  },
  {
   "cell_type": "code",
   "execution_count": 22,
   "metadata": {},
   "outputs": [
    {
     "name": "stdout",
     "output_type": "stream",
     "text": [
      "{'W': [array([[ 0.39176375,  0.32923101],\n",
      "       [-0.52948543, -0.47187932],\n",
      "       [-1.70467478, -1.53154089],\n",
      "       [ 2.72530071,  2.39472441],\n",
      "       [-1.26635087, -1.12017672],\n",
      "       [-2.23240952, -1.99948349],\n",
      "       [-2.33959438, -2.06075052],\n",
      "       [-0.79559501, -0.72217552],\n",
      "       [-2.04773233, -1.80973163],\n",
      "       [ 2.28980803,  2.03877932],\n",
      "       [-0.39993695, -0.33027638],\n",
      "       [-0.2015118 , -0.1797882 ],\n",
      "       [ 1.14501382,  1.00555756],\n",
      "       [-1.47363537, -1.30525625],\n",
      "       [-1.04948374, -0.91610772],\n",
      "       [-0.11730426, -0.0994801 ],\n",
      "       [-0.67628678, -0.59753415],\n",
      "       [-1.04018435, -0.90959996],\n",
      "       [ 0.4705498 ,  0.43208358],\n",
      "       [ 1.98930248,  1.76086595],\n",
      "       [ 0.57150219,  0.50281884],\n",
      "       [ 1.01781761,  0.92937508],\n",
      "       [ 0.89669442,  0.79251792],\n",
      "       [ 1.77293897,  1.59513105],\n",
      "       [-0.63165939, -0.55114705],\n",
      "       [ 2.24910658,  1.99183406],\n",
      "       [-1.88155042, -1.64894555],\n",
      "       [ 0.00918288,  0.017759  ],\n",
      "       [ 0.6223559 ,  0.5562618 ],\n",
      "       [ 0.59973069,  0.54063544],\n",
      "       [ 0.44985024,  0.42021686],\n",
      "       [ 0.28810118,  0.25011426],\n",
      "       [ 0.8409861 ,  0.74437654],\n",
      "       [ 3.99772384,  3.54042926],\n",
      "       [ 0.51359176,  0.42508229],\n",
      "       [-3.08437528, -2.70849238],\n",
      "       [-0.37052251, -0.31863126],\n",
      "       [-2.09775086, -1.86977617],\n",
      "       [-1.28558746, -1.12038747],\n",
      "       [ 1.4327655 ,  1.28073486],\n",
      "       [-0.86300881, -0.75983075],\n",
      "       [ 0.08974938,  0.08385388],\n",
      "       [ 0.16341053,  0.14626953],\n",
      "       [-1.71755454, -1.5016174 ],\n",
      "       [ 0.06734736,  0.07159226],\n",
      "       [ 1.667474  ,  1.47496952],\n",
      "       [-0.27384689, -0.24325386],\n",
      "       [-0.08024353, -0.07223074],\n",
      "       [ 1.3346515 ,  1.19190794],\n",
      "       [-1.29767146, -1.12937483],\n",
      "       [ 0.1499664 ,  0.15094345],\n",
      "       [ 0.45736126,  0.41016163],\n",
      "       [-3.89299986, -3.41719714],\n",
      "       [ 1.6056695 ,  1.41353844],\n",
      "       [ 0.0680627 ,  0.06506452],\n",
      "       [-2.06057656, -1.7979491 ],\n",
      "       [ 1.89792626,  1.67221682],\n",
      "       [-0.22096886, -0.20981531],\n",
      "       [-0.918005  , -0.8241355 ],\n",
      "       [ 0.54959276,  0.48399343],\n",
      "       [-0.56273061, -0.50291666],\n",
      "       [ 0.98415766,  0.88419482],\n",
      "       [ 0.07326246,  0.09589047],\n",
      "       [ 1.12052429,  0.98700604],\n",
      "       [-0.26726773, -0.21502651],\n",
      "       [ 0.41534823,  0.36653277],\n",
      "       [-0.3840407 , -0.32093656],\n",
      "       [ 0.3257394 ,  0.27789421],\n",
      "       [-0.24276008, -0.22900717],\n",
      "       [-0.06545415, -0.06289588],\n",
      "       [ 0.44625582,  0.39889961],\n",
      "       [ 2.77519289,  2.4606266 ],\n",
      "       [ 1.12928833,  1.00258471],\n",
      "       [ 1.24499844,  1.1139565 ],\n",
      "       [-0.17983731, -0.15269079],\n",
      "       [-3.31651223, -2.9423919 ],\n",
      "       [ 1.03792939,  0.93617764],\n",
      "       [ 1.3279077 ,  1.17767583],\n",
      "       [-0.49565379, -0.43618875],\n",
      "       [ 0.37375573,  0.32276801],\n",
      "       [-2.11521076, -1.86718712],\n",
      "       [-0.48565606, -0.43270801],\n",
      "       [ 0.26865032,  0.23418563],\n",
      "       [ 1.75368101,  1.55343808],\n",
      "       [ 0.32110833,  0.24884008],\n",
      "       [ 0.25494437,  0.24276066],\n",
      "       [ 1.82765571,  1.60107137],\n",
      "       [-0.04329045, -0.03899467],\n",
      "       [-0.23313516, -0.21950754],\n",
      "       [ 0.29518031,  0.25468506],\n",
      "       [-1.05501434, -0.9137256 ],\n",
      "       [ 1.22244782,  1.09652714],\n",
      "       [-0.16366953, -0.14802173],\n",
      "       [-0.06552649, -0.05886786],\n",
      "       [ 0.01820771,  0.01484352],\n",
      "       [ 0.83202997,  0.73467169],\n",
      "       [ 2.85492752,  2.52505742],\n",
      "       [-0.03049951, -0.04700922],\n",
      "       [-0.14952834, -0.13184794],\n",
      "       [ 1.94538589,  1.73232883]]), array([[ 0.44280766, -0.75910732, -2.32232632,  3.51104419, -1.7277121 ,\n",
      "        -3.02153096, -3.1414372 , -1.11912701, -2.75969536,  2.95805164,\n",
      "        -0.5711707 , -0.32669804,  1.44007047, -2.00254759, -1.43362431,\n",
      "        -0.21212578, -0.94952017, -1.42245347,  0.56810936,  2.55540345,\n",
      "         0.68874461,  1.29643897,  1.11776995,  2.28785504, -0.88636234,\n",
      "         2.89749195, -2.53069618, -0.04245023,  0.76103405,  0.73416629,\n",
      "         0.54504425,  0.31477804,  1.04519494,  5.19974768,  0.59521071,\n",
      "        -4.12056279, -0.54191005, -2.83625606, -1.74211868,  1.83195858,\n",
      "        -1.19353133,  0.06005414,  0.1550894 , -2.31230434,  0.0355147 ,\n",
      "         2.13177246, -0.42135101, -0.16708765,  1.70165568, -1.75694078,\n",
      "         0.14820868,  0.54400436, -5.18794135,  2.0461835 ,  0.03184047,\n",
      "        -2.76151104,  2.43034877, -0.36054774, -1.27617374,  0.66019693,\n",
      "        -0.80393496,  1.2420225 ,  0.05579382,  1.40982342, -0.39811002,\n",
      "         0.4846155 , -0.55332197,  0.36065722, -0.38915007, -0.15010864,\n",
      "         0.52851326,  3.59076957,  1.42650885,  1.58459137, -0.29301987,\n",
      "        -4.44682762,  1.31564095,  1.68736939, -0.71089503,  0.42539505,\n",
      "        -2.84754154, -0.70125434,  0.29003956,  2.24651783,  0.33826664,\n",
      "         0.28553161,  2.33208187, -0.11813692, -0.37591793,  0.32297418,\n",
      "        -1.4361153 ,  1.5565339 , -0.27799157, -0.14753189, -0.03769298,\n",
      "         1.03220831,  3.69154467, -0.11391107, -0.25708014,  2.50444704]])], 'b': [array([[-0.72985023],\n",
      "       [-0.64808976],\n",
      "       [-0.20223578],\n",
      "       [-0.02014994],\n",
      "       [-0.35914632],\n",
      "       [-0.09238632],\n",
      "       [-0.08178012],\n",
      "       [-0.54845873],\n",
      "       [-0.1240304 ],\n",
      "       [-0.09154064],\n",
      "       [-0.68996654],\n",
      "       [-0.73020105],\n",
      "       [-0.48543673],\n",
      "       [-0.28041457],\n",
      "       [-0.45054692],\n",
      "       [-0.74277632],\n",
      "       [-0.59795348],\n",
      "       [-0.45406783],\n",
      "       [-0.71143248],\n",
      "       [-0.16807667],\n",
      "       [-0.68935045],\n",
      "       [-0.53021132],\n",
      "       [-0.58324745],\n",
      "       [-0.23225777],\n",
      "       [-0.6153222 ],\n",
      "       [-0.10149516],\n",
      "       [-0.16097184],\n",
      "       [-0.75339637],\n",
      "       [-0.67424973],\n",
      "       [-0.6800164 ],\n",
      "       [-0.7151672 ],\n",
      "       [-0.74370543],\n",
      "       [-0.60363799],\n",
      "       [ 0.07264475],\n",
      "       [-0.70674788],\n",
      "       [-0.05095357],\n",
      "       [-0.69567512],\n",
      "       [-0.11357744],\n",
      "       [-0.35488422],\n",
      "       [-0.36227157],\n",
      "       [-0.52579778],\n",
      "       [-0.75507118],\n",
      "       [-0.75340717],\n",
      "       [-0.20468114],\n",
      "       [-0.75499809],\n",
      "       [-0.2739869 ],\n",
      "       [-0.71671037],\n",
      "       [-0.74652617],\n",
      "       [-0.40282683],\n",
      "       [-0.35045272],\n",
      "       [-0.75363445],\n",
      "       [-0.71531325],\n",
      "       [-0.07153409],\n",
      "       [-0.2982148 ],\n",
      "       [-0.75497589],\n",
      "       [-0.12397902],\n",
      "       [-0.1966604 ],\n",
      "       [-0.7256944 ],\n",
      "       [-0.50009793],\n",
      "       [-0.69489679],\n",
      "       [-0.63690288],\n",
      "       [-0.54668272],\n",
      "       [-0.75509378],\n",
      "       [-0.49493046],\n",
      "       [-0.72028139],\n",
      "       [-0.72425039],\n",
      "       [-0.69348114],\n",
      "       [-0.73934924],\n",
      "       [-0.72160311],\n",
      "       [-0.74776839],\n",
      "       [-0.71775526],\n",
      "       [-0.01279025],\n",
      "       [-0.48973812],\n",
      "       [-0.43979815],\n",
      "       [-0.73433179],\n",
      "       [-0.0540325 ],\n",
      "       [-0.52427116],\n",
      "       [-0.40727208],\n",
      "       [-0.65962616],\n",
      "       [-0.7320761 ],\n",
      "       [-0.11228761],\n",
      "       [-0.66186711],\n",
      "       [-0.74576584],\n",
      "       [-0.24288449],\n",
      "       [-0.74153761],\n",
      "       [-0.74613134],\n",
      "       [-0.22065916],\n",
      "       [-0.74985389],\n",
      "       [-0.72352153],\n",
      "       [-0.74297565],\n",
      "       [-0.4497793 ],\n",
      "       [-0.44868726],\n",
      "       [-0.73606367],\n",
      "       [-0.74794966],\n",
      "       [-0.75355201],\n",
      "       [-0.60718564],\n",
      "       [-0.00383174],\n",
      "       [-0.750107  ],\n",
      "       [-0.73833834],\n",
      "       [-0.17955277]]), array([[-0.63013911]])]}\n"
     ]
    }
   ],
   "source": [
    "print(cls.parameters)"
   ]
  },
  {
   "cell_type": "code",
   "execution_count": 23,
   "metadata": {},
   "outputs": [
    {
     "data": {
      "text/plain": [
       "array([[1.42975504e-01, 8.57024496e-01],\n",
       "       [4.60691772e-04, 9.99539308e-01],\n",
       "       [8.41521061e-02, 9.15847894e-01],\n",
       "       [9.72910404e-01, 2.70895962e-02],\n",
       "       [9.92542872e-01, 7.45712821e-03],\n",
       "       [3.00377556e-02, 9.69962244e-01],\n",
       "       [9.95050241e-01, 4.94975940e-03],\n",
       "       [4.47647546e-01, 5.52352454e-01],\n",
       "       [9.98134777e-01, 1.86522281e-03],\n",
       "       [6.95706245e-01, 3.04293755e-01],\n",
       "       [8.62086094e-01, 1.37913906e-01],\n",
       "       [6.41640395e-02, 9.35835961e-01],\n",
       "       [9.96265007e-01, 3.73499307e-03],\n",
       "       [9.98882652e-01, 1.11734807e-03],\n",
       "       [2.11826521e-01, 7.88173479e-01],\n",
       "       [9.54255538e-01, 4.57444621e-02],\n",
       "       [4.49340565e-01, 5.50659435e-01],\n",
       "       [2.10435493e-01, 7.89564507e-01],\n",
       "       [9.98105497e-01, 1.89450328e-03],\n",
       "       [5.64894579e-01, 4.35105421e-01],\n",
       "       [1.18363184e-01, 8.81636816e-01],\n",
       "       [9.94012681e-01, 5.98731874e-03],\n",
       "       [2.28186589e-02, 9.77181341e-01],\n",
       "       [8.86922976e-04, 9.99113077e-01],\n",
       "       [9.76576526e-01, 2.34234737e-02],\n",
       "       [7.98926396e-01, 2.01073604e-01],\n",
       "       [5.86055068e-01, 4.13944932e-01],\n",
       "       [8.14916230e-01, 1.85083770e-01],\n",
       "       [1.48674605e-01, 8.51325395e-01],\n",
       "       [4.15311711e-02, 9.58468829e-01],\n",
       "       [8.42862781e-01, 1.57137219e-01],\n",
       "       [9.56035976e-01, 4.39640236e-02],\n",
       "       [2.13298250e-01, 7.86701750e-01],\n",
       "       [4.16266921e-01, 5.83733079e-01],\n",
       "       [1.23932048e-01, 8.76067952e-01],\n",
       "       [6.98437718e-02, 9.30156228e-01],\n",
       "       [7.90465587e-01, 2.09534413e-01],\n",
       "       [9.67167723e-01, 3.28322765e-02],\n",
       "       [2.65053336e-01, 7.34946664e-01],\n",
       "       [9.18202209e-02, 9.08179779e-01],\n",
       "       [9.38429802e-01, 6.15701981e-02],\n",
       "       [1.97695239e-02, 9.80230476e-01],\n",
       "       [9.97079153e-01, 2.92084650e-03],\n",
       "       [5.11042238e-01, 4.88957762e-01],\n",
       "       [1.56535191e-02, 9.84346481e-01],\n",
       "       [1.97317399e-01, 8.02682601e-01],\n",
       "       [9.79030694e-01, 2.09693063e-02],\n",
       "       [9.99930312e-01, 6.96883503e-05],\n",
       "       [9.95915462e-01, 4.08453844e-03],\n",
       "       [9.99864185e-01, 1.35815113e-04],\n",
       "       [9.92263398e-01, 7.73660215e-03],\n",
       "       [9.97257429e-01, 2.74257112e-03],\n",
       "       [8.56133276e-01, 1.43866724e-01],\n",
       "       [1.07750471e-02, 9.89224953e-01],\n",
       "       [2.53152327e-02, 9.74684767e-01],\n",
       "       [9.79187107e-02, 9.02081289e-01],\n",
       "       [9.98934906e-01, 1.06509449e-03],\n",
       "       [6.46977390e-01, 3.53022610e-01],\n",
       "       [9.63575648e-01, 3.64243519e-02],\n",
       "       [9.85499394e-01, 1.45006056e-02],\n",
       "       [9.97312540e-01, 2.68745967e-03],\n",
       "       [1.60114015e-03, 9.98398860e-01],\n",
       "       [1.30766337e-02, 9.86923366e-01],\n",
       "       [1.04651929e-03, 9.98953481e-01],\n",
       "       [1.21493567e-01, 8.78506433e-01],\n",
       "       [8.26416932e-02, 9.17358307e-01],\n",
       "       [8.97326305e-01, 1.02673695e-01],\n",
       "       [2.86454143e-02, 9.71354586e-01],\n",
       "       [9.99528132e-01, 4.71867904e-04],\n",
       "       [6.69298323e-01, 3.30701677e-01],\n",
       "       [6.14818448e-04, 9.99385182e-01],\n",
       "       [9.48603172e-01, 5.13968277e-02],\n",
       "       [9.99122715e-01, 8.77285445e-04],\n",
       "       [8.28742809e-01, 1.71257191e-01],\n",
       "       [8.51543732e-01, 1.48456268e-01],\n",
       "       [9.99557070e-01, 4.42929731e-04],\n",
       "       [8.64320456e-01, 1.35679544e-01],\n",
       "       [5.98010620e-01, 4.01989380e-01],\n",
       "       [4.07173475e-02, 9.59282653e-01],\n",
       "       [5.86014589e-01, 4.13985411e-01],\n",
       "       [9.96342358e-01, 3.65764231e-03],\n",
       "       [9.44104711e-01, 5.58952888e-02],\n",
       "       [8.40975393e-01, 1.59024607e-01],\n",
       "       [2.60162392e-01, 7.39837608e-01],\n",
       "       [9.99445046e-01, 5.54953582e-04],\n",
       "       [9.91767129e-01, 8.23287126e-03],\n",
       "       [3.83815428e-01, 6.16184572e-01],\n",
       "       [9.98700471e-01, 1.29952927e-03],\n",
       "       [9.99693256e-01, 3.06743790e-04],\n",
       "       [1.63586396e-01, 8.36413604e-01],\n",
       "       [9.99474495e-01, 5.25504910e-04],\n",
       "       [9.99806624e-01, 1.93376344e-04],\n",
       "       [6.62854010e-03, 9.93371460e-01],\n",
       "       [9.96434327e-01, 3.56567257e-03],\n",
       "       [8.78324908e-01, 1.21675092e-01],\n",
       "       [8.06608616e-01, 1.93391384e-01],\n",
       "       [6.98006612e-01, 3.01993388e-01],\n",
       "       [9.99170182e-01, 8.29817981e-04],\n",
       "       [3.75414143e-01, 6.24585857e-01],\n",
       "       [9.98335611e-01, 1.66438896e-03]])"
      ]
     },
     "execution_count": 23,
     "metadata": {},
     "output_type": "execute_result"
    }
   ],
   "source": [
    "Y_prob = cls.predict_proba(X)\n",
    "Y_prob"
   ]
  },
  {
   "cell_type": "code",
   "execution_count": 24,
   "metadata": {},
   "outputs": [
    {
     "data": {
      "text/plain": [
       "array([0, 0, 0, 1, 1, 0, 1, 0, 1, 1, 1, 0, 1, 1, 0, 1, 0, 0, 1, 1, 0, 1,\n",
       "       0, 0, 1, 1, 1, 1, 0, 0, 1, 1, 0, 0, 0, 0, 1, 1, 0, 0, 1, 0, 1, 1,\n",
       "       0, 0, 1, 1, 1, 1, 1, 1, 1, 0, 0, 0, 1, 1, 1, 1, 1, 0, 0, 0, 0, 0,\n",
       "       1, 0, 1, 1, 0, 1, 1, 1, 1, 1, 1, 1, 0, 1, 1, 1, 1, 0, 1, 1, 0, 1,\n",
       "       1, 0, 1, 1, 0, 1, 1, 1, 1, 1, 0, 1])"
      ]
     },
     "execution_count": 24,
     "metadata": {},
     "output_type": "execute_result"
    }
   ],
   "source": [
    "Y_hat = cls.predict(X)\n",
    "Y_hat"
   ]
  },
  {
   "cell_type": "code",
   "execution_count": 25,
   "metadata": {},
   "outputs": [
    {
     "data": {
      "text/plain": [
       "0.89"
      ]
     },
     "execution_count": 25,
     "metadata": {},
     "output_type": "execute_result"
    }
   ],
   "source": [
    "accuracy_score(Y, Y_hat)"
   ]
  },
  {
   "cell_type": "code",
   "execution_count": 26,
   "metadata": {},
   "outputs": [
    {
     "data": {
      "image/png": "[encoded data removed]",
      "text/plain": [
       "<Figure size 432x288 with 1 Axes>"
      ]
     },
     "metadata": {
      "needs_background": "light"
     },
     "output_type": "display_data"
    }
   ],
   "source": [
    "plot_data(X, Y)\n",
    "plot_surface(cls, X[:, 0], X[:, 1])"
   ]
  },
  {
   "cell_type": "code",
   "execution_count": 27,
   "metadata": {},
   "outputs": [],
   "source": [
    "from sklearn.neural_network import MLPClassifier\n",
    "clf = MLPClassifier(hidden_layer_sizes = (800,), max_iter = 10000, activation = 'tanh', solver = 'sgd', learning_rate_init = 0.0005, learning_rate = 'constant')"
   ]
  },
  {
   "cell_type": "code",
   "execution_count": 28,
   "metadata": {},
   "outputs": [
    {
     "data": {
      "text/plain": [
       "MLPClassifier(activation='tanh', alpha=0.0001, batch_size='auto', beta_1=0.9,\n",
       "              beta_2=0.999, early_stopping=False, epsilon=1e-08,\n",
       "              hidden_layer_sizes=(800,), learning_rate='constant',\n",
       "              learning_rate_init=0.0005, max_fun=15000, max_iter=10000,\n",
       "              momentum=0.9, n_iter_no_change=10, nesterovs_momentum=True,\n",
       "              power_t=0.5, random_state=None, shuffle=True, solver='sgd',\n",
       "              tol=0.0001, validation_fraction=0.1, verbose=False,\n",
       "              warm_start=False)"
      ]
     },
     "execution_count": 28,
     "metadata": {},
     "output_type": "execute_result"
    }
   ],
   "source": [
    "clf.fit(X, Y)"
   ]
  },
  {
   "cell_type": "code",
   "execution_count": 29,
   "metadata": {},
   "outputs": [
    {
     "data": {
      "image/png": "[encoded data removed]",
      "text/plain": [
       "<Figure size 432x288 with 1 Axes>"
      ]
     },
     "metadata": {
      "needs_background": "light"
     },
     "output_type": "display_data"
    }
   ],
   "source": [
    "plot_data(X, Y)\n",
    "plot_surface(clf, X[:, 0], X[:, 1])"
   ]
  },
  {
   "cell_type": "code",
   "execution_count": 30,
   "metadata": {},
   "outputs": [
    {
     "data": {
      "text/plain": [
       "0.95"
      ]
     },
     "execution_count": 30,
     "metadata": {},
     "output_type": "execute_result"
    }
   ],
   "source": [
    "accuracy_score(Y, clf.predict(X))"
   ]
  }
 ],
 "metadata": {
  "anaconda-cloud": {},
  "kernelspec": {
   "display_name": "Python 3",
   "language": "python",
   "name": "python3"
  },
  "language_info": {
   "codemirror_mode": {
    "name": "ipython",
    "version": 3
   },
   "file_extension": ".py",
   "mimetype": "text/x-python",
   "name": "python",
   "nbconvert_exporter": "python",
   "pygments_lexer": "ipython3",
   "version": "3.8.0"
  }
 },
 "nbformat": 4,
 "nbformat_minor": 1
}
